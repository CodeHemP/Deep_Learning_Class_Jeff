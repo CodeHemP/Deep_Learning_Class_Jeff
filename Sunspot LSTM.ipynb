{
 "cells": [
  {
   "cell_type": "code",
   "execution_count": 1,
   "metadata": {},
   "outputs": [],
   "source": [
    "import pandas as pd\n",
    "import os\n",
    "\n",
    "path = './Data/'\n",
    "\n",
    "filename = os.path.join(path,'SN_d_tot_V2.0.csv')"
   ]
  },
  {
   "cell_type": "code",
   "execution_count": 2,
   "metadata": {},
   "outputs": [],
   "source": [
    "names = ['year','month','day','dec_year','sn_value','sn_error','obs_num']"
   ]
  },
  {
   "cell_type": "code",
   "execution_count": 3,
   "metadata": {},
   "outputs": [],
   "source": [
    "df = pd.read_csv(filename, sep=';',\n",
    "                header=None, names=names,\n",
    "                na_values=['-1'],\n",
    "                index_col = False)"
   ]
  },
  {
   "cell_type": "code",
   "execution_count": 4,
   "metadata": {},
   "outputs": [
    {
     "name": "stdout",
     "output_type": "stream",
     "text": [
      "start:\n",
      "   year  month  day  dec_year  sn_value  sn_error  obs_num\n",
      "0  1818      1    1  1818.001        -1       NaN        0\n",
      "1  1818      1    2  1818.004        -1       NaN        0\n",
      "2  1818      1    3  1818.007        -1       NaN        0\n",
      "3  1818      1    4  1818.010        -1       NaN        0\n",
      "4  1818      1    5  1818.012        -1       NaN        0\n",
      "5  1818      1    6  1818.015        -1       NaN        0\n",
      "6  1818      1    7  1818.018        -1       NaN        0\n",
      "7  1818      1    8  1818.021        65      10.2        1\n",
      "8  1818      1    9  1818.023        -1       NaN        0\n",
      "9  1818      1   10  1818.026        -1       NaN        0\n"
     ]
    }
   ],
   "source": [
    "print(\"start:\")\n",
    "print(df[0:10])"
   ]
  },
  {
   "cell_type": "code",
   "execution_count": 5,
   "metadata": {},
   "outputs": [
    {
     "name": "stdout",
     "output_type": "stream",
     "text": [
      "11314\n"
     ]
    }
   ],
   "source": [
    "start_id = max(df[df['obs_num']==0].index.tolist())+1\n",
    "print(start_id)\n",
    "df = df[start_id:]"
   ]
  },
  {
   "cell_type": "code",
   "execution_count": 6,
   "metadata": {},
   "outputs": [
    {
     "name": "stdout",
     "output_type": "stream",
     "text": [
      "training: 55160\n",
      "testing: 6787\n"
     ]
    }
   ],
   "source": [
    "df_train = df[df['year']<2000]\n",
    "df_test = df[df['year']>=2000]\n",
    "\n",
    "sports_train = df_train['sn_value'].tolist()\n",
    "sports_test = df_test['sn_value'].tolist()\n",
    "\n",
    "print(\"training: {}\".format(len(sports_train)))\n",
    "print(\"testing: {}\".format(len(sports_test)))"
   ]
  },
  {
   "cell_type": "code",
   "execution_count": 7,
   "metadata": {},
   "outputs": [],
   "source": [
    "import numpy as np\n",
    "\n",
    "def to_sequences(seq_size, obs):\n",
    "    x = []\n",
    "    y = []\n",
    "    \n",
    "    for i in range(len(obs)-seq_size-1):\n",
    "        window = obs[i:(i+seq_size)]\n",
    "        after_window = obs[i+seq_size]\n",
    "        window = [[x] for x in window]\n",
    "        x.append(window)\n",
    "        y.append(after_window)\n",
    "    return np.array(x),np.array(y)"
   ]
  },
  {
   "cell_type": "code",
   "execution_count": 8,
   "metadata": {},
   "outputs": [],
   "source": [
    "seq_size = 10\n",
    "x_train, y_train = to_sequences(seq_size, sports_train)\n",
    "x_test, y_test = to_sequences(seq_size, sports_test)"
   ]
  },
  {
   "cell_type": "code",
   "execution_count": 9,
   "metadata": {},
   "outputs": [
    {
     "data": {
      "text/plain": [
       "array([[[240],\n",
       "        [275],\n",
       "        [352],\n",
       "        [268],\n",
       "        [285],\n",
       "        [343],\n",
       "        [340],\n",
       "        [238],\n",
       "        [287],\n",
       "        [294]],\n",
       "\n",
       "       [[275],\n",
       "        [352],\n",
       "        [268],\n",
       "        [285],\n",
       "        [343],\n",
       "        [340],\n",
       "        [238],\n",
       "        [287],\n",
       "        [294],\n",
       "        [342]],\n",
       "\n",
       "       [[352],\n",
       "        [268],\n",
       "        [285],\n",
       "        [343],\n",
       "        [340],\n",
       "        [238],\n",
       "        [287],\n",
       "        [294],\n",
       "        [342],\n",
       "        [287]]])"
      ]
     },
     "execution_count": 9,
     "metadata": {},
     "output_type": "execute_result"
    }
   ],
   "source": [
    "x_train[1:4]"
   ]
  },
  {
   "cell_type": "code",
   "execution_count": 10,
   "metadata": {},
   "outputs": [
    {
     "name": "stderr",
     "output_type": "stream",
     "text": [
      "C:\\Users\\Ashish\\Anaconda3\\lib\\site-packages\\h5py\\__init__.py:36: FutureWarning: Conversion of the second argument of issubdtype from `float` to `np.floating` is deprecated. In future, it will be treated as `np.float64 == np.dtype(float).type`.\n",
      "  from ._conv import register_converters as _register_converters\n",
      "Using TensorFlow backend.\n"
     ]
    }
   ],
   "source": [
    "from keras.preprocessing import sequence\n",
    "from keras.models import Sequential\n",
    "from keras.layers import Dense, Embedding\n",
    "from keras.layers import LSTM\n",
    "from keras.datasets import imdb\n",
    "from keras.callbacks import EarlyStopping\n",
    "import numpy as np"
   ]
  },
  {
   "cell_type": "code",
   "execution_count": 11,
   "metadata": {},
   "outputs": [
    {
     "name": "stdout",
     "output_type": "stream",
     "text": [
      "Train on 55149 samples, validate on 6776 samples\n",
      "Epoch 1/1000\n",
      " - 38s - loss: 1388.8479 - val_loss: 203.0044\n",
      "Epoch 2/1000\n",
      " - 37s - loss: 519.4890 - val_loss: 203.8726\n",
      "Epoch 3/1000\n",
      " - 34s - loss: 511.4188 - val_loss: 206.6642\n",
      "Epoch 4/1000\n",
      " - 33s - loss: 510.4086 - val_loss: 212.4187\n",
      "Epoch 5/1000\n",
      " - 33s - loss: 509.0526 - val_loss: 201.3940\n",
      "Epoch 6/1000\n",
      " - 33s - loss: 509.6792 - val_loss: 203.3017\n",
      "Epoch 7/1000\n",
      " - 33s - loss: 503.2708 - val_loss: 209.6514\n",
      "Epoch 8/1000\n",
      " - 35s - loss: 501.8529 - val_loss: 202.0593\n",
      "Epoch 9/1000\n",
      " - 38s - loss: 502.3665 - val_loss: 211.7105\n",
      "Epoch 10/1000\n",
      " - 38s - loss: 503.8213 - val_loss: 203.6000\n",
      "Epoch 00010: early stopping\n"
     ]
    },
    {
     "data": {
      "text/plain": [
       "<keras.callbacks.History at 0x14b29f856d8>"
      ]
     },
     "execution_count": 11,
     "metadata": {},
     "output_type": "execute_result"
    }
   ],
   "source": [
    "model = Sequential()\n",
    "model.add(LSTM(64,\n",
    "              dropout=0.0,\n",
    "              recurrent_dropout=0.0,\n",
    "              input_shape=(None,1)))\n",
    "model.add(Dense(32))\n",
    "model.add(Dense(1))\n",
    "model.compile(loss='mean_squared_error',\n",
    "             optimizer='adam')\n",
    "monitor = EarlyStopping(monitor='val_loss',\n",
    "                       min_delta = 1e-3,\n",
    "                       patience=5,\n",
    "                       verbose=1,\n",
    "                       mode='auto')\n",
    "\n",
    "model.fit(x_train, y_train, validation_data = (x_test,y_test),\n",
    "         callbacks=[monitor],\n",
    "         verbose=2,\n",
    "         epochs=1000)"
   ]
  },
  {
   "cell_type": "code",
   "execution_count": 12,
   "metadata": {},
   "outputs": [
    {
     "name": "stdout",
     "output_type": "stream",
     "text": [
      "score:14.26884752035647\n"
     ]
    }
   ],
   "source": [
    "from sklearn import metrics\n",
    "\n",
    "pred = model.predict(x_test)\n",
    "score = np.sqrt(metrics.mean_squared_error(pred,y_test))\n",
    "print(\"score:{}\".format(score))"
   ]
  }
 ],
 "metadata": {
  "kernelspec": {
   "display_name": "Python 3",
   "language": "python",
   "name": "python3"
  },
  "language_info": {
   "codemirror_mode": {
    "name": "ipython",
    "version": 3
   },
   "file_extension": ".py",
   "mimetype": "text/x-python",
   "name": "python",
   "nbconvert_exporter": "python",
   "pygments_lexer": "ipython3",
   "version": "3.6.5"
  }
 },
 "nbformat": 4,
 "nbformat_minor": 2
}
