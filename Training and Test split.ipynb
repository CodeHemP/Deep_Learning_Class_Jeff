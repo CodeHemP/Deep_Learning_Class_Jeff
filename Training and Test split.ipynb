{
 "cells": [
  {
   "cell_type": "code",
   "execution_count": 11,
   "metadata": {},
   "outputs": [
    {
     "name": "stdout",
     "output_type": "stream",
     "text": [
      "./Data/mpg.csv\n",
      "train DF:324\n",
      "validation DF: 74\n"
     ]
    }
   ],
   "source": [
    "import os\n",
    "import pandas as pd\n",
    "import numpy as np\n",
    "\n",
    "path = './Data/'\n",
    "\n",
    "filename_read = os.path.join(path,'mpg.csv')\n",
    "print(filename_read)\n",
    "\n",
    "df = pd.read_csv(filename_read, na_values = ['NA','?'])\n",
    "df[0:5]\n",
    "\n",
    "df = df.reindex(np.random.permutation(df.index))\n",
    "mask = np.random.rand(len(df)) < 0.8\n",
    "trainDF = pd.DataFrame(df[mask])\n",
    "validationDF = pd.DataFrame(df[~mask])\n",
    "\n",
    "print(f\"train DF:{len(trainDF)}\")\n",
    "print(f\"validation DF: {len(validationDF)}\")\n"
   ]
  },
  {
   "cell_type": "code",
   "execution_count": 2,
   "metadata": {},
   "outputs": [
    {
     "ename": "ImportError",
     "evalue": "cannot import name 'kfold'",
     "output_type": "error",
     "traceback": [
      "\u001b[1;31m---------------------------------------------------------------------------\u001b[0m",
      "\u001b[1;31mImportError\u001b[0m                               Traceback (most recent call last)",
      "\u001b[1;32m<ipython-input-2-f343f3511996>\u001b[0m in \u001b[0;36m<module>\u001b[1;34m()\u001b[0m\n\u001b[0;32m      1\u001b[0m \u001b[1;32mimport\u001b[0m \u001b[0mos\u001b[0m\u001b[1;33m\u001b[0m\u001b[0m\n\u001b[1;32m----> 2\u001b[1;33m \u001b[1;32mfrom\u001b[0m \u001b[0msklearn\u001b[0m\u001b[1;33m.\u001b[0m\u001b[0mmodel_selection\u001b[0m \u001b[1;32mimport\u001b[0m \u001b[0mkfold\u001b[0m\u001b[1;33m\u001b[0m\u001b[0m\n\u001b[0m\u001b[0;32m      3\u001b[0m \u001b[1;32mimport\u001b[0m \u001b[0mpandas\u001b[0m \u001b[1;32mas\u001b[0m \u001b[0mpd\u001b[0m\u001b[1;33m\u001b[0m\u001b[0m\n\u001b[0;32m      4\u001b[0m \u001b[1;32mimport\u001b[0m \u001b[0mnumpy\u001b[0m \u001b[1;32mas\u001b[0m \u001b[0mnp\u001b[0m\u001b[1;33m\u001b[0m\u001b[0m\n\u001b[0;32m      5\u001b[0m \u001b[1;33m\u001b[0m\u001b[0m\n",
      "\u001b[1;31mImportError\u001b[0m: cannot import name 'kfold'"
     ]
    }
   ],
   "source": [
    "import os\n",
    "from sklearn.model_selection import kfold\n",
    "import pandas as pd\n",
    "import numpy as np\n",
    "\n",
    "path = \"./Data/\"\n",
    "\n",
    "fil_nm = os.path.join(path,\"mpg.csv\")\n",
    "print(fil_nm)"
   ]
  },
  {
   "cell_type": "code",
   "execution_count": 13,
   "metadata": {},
   "outputs": [
    {
     "name": "stdout",
     "output_type": "stream",
     "text": [
      "./Data/mpg.csv\n",
      "fold: 1, train: 318, valid_nm: 80\n",
      "fold: 2, train: 318, valid_nm: 80\n",
      "fold: 3, train: 318, valid_nm: 80\n",
      "fold: 4, train: 319, valid_nm: 79\n",
      "fold: 5, train: 319, valid_nm: 79\n"
     ]
    }
   ],
   "source": [
    "import os\n",
    "from sklearn.model_selection import KFold\n",
    "import pandas as pd\n",
    "import numpy as np\n",
    "\n",
    "path = \"./Data/\"\n",
    "\n",
    "fil_nm = os.path.join(path,\"mpg.csv\")\n",
    "print(fil_nm)\n",
    "\n",
    "df = pd.read_csv(fil_nm, na_values=['NA','?'])\n",
    "df = df.reindex(np.random.permutation(df.index))\n",
    "kf = KFold(5)\n",
    "\n",
    "fold = 1\n",
    "for train_ind, validate_ind in kf.split(df):\n",
    "    trainDF = pd.DataFrame(df.iloc[train_ind,:])\n",
    "    validateDF = pd.DataFrame(df.iloc[validate_ind])\n",
    "    print(f\"fold: {fold}, train: {len(trainDF)}, valid_nm: {len(validateDF)}\")\n",
    "    fold +=1 \n"
   ]
  },
  {
   "cell_type": "code",
   "execution_count": 18,
   "metadata": {},
   "outputs": [
    {
     "name": "stdout",
     "output_type": "stream",
     "text": [
      "['mpg', 'cylinders', 'displacement', 'horsepower', 'weight', 'acceleration', 'year', 'origin', 'name']\n",
      "['18', '8', '307', '130', '3504', '12', '70', '1', 'chevrolet chevelle malibu']\n",
      "['15', '8', '350', '165', '3693', '11.5', '70', '1', 'buick skylark 320']\n",
      "['18', '8', '318', '150', '3436', '11', '70', '1', 'plymouth satellite']\n",
      "['16', '8', '304', '150', '3433', '12', '70', '1', 'amc rebel sst']\n"
     ]
    }
   ],
   "source": [
    "import codecs\n",
    "import os \n",
    "import csv\n",
    "\n",
    "encoding = 'utf-8'\n",
    "path = \"./Data/\"\n",
    "filename = os.path.join(path,\"mpg.csv\")\n",
    "\n",
    "\n",
    "c = 0\n",
    "with codecs.open(filename,\"r\",encoding) as fh:\n",
    "    reader = csv.reader(fh)\n",
    "    for row in reader:\n",
    "        c += 1\n",
    "        if c > 5:\n",
    "            break\n",
    "        print(row)"
   ]
  }
 ],
 "metadata": {
  "kernelspec": {
   "display_name": "Python 3",
   "language": "python",
   "name": "python3"
  },
  "language_info": {
   "codemirror_mode": {
    "name": "ipython",
    "version": 3
   },
   "file_extension": ".py",
   "mimetype": "text/x-python",
   "name": "python",
   "nbconvert_exporter": "python",
   "pygments_lexer": "ipython3",
   "version": "3.6.5"
  }
 },
 "nbformat": 4,
 "nbformat_minor": 2
}
